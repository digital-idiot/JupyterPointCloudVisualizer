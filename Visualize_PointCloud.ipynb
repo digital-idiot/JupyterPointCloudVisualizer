{
 "cells": [
  {
   "cell_type": "markdown",
   "id": "99ddc122-4665-4eb2-9541-eb66bd1b82b5",
   "metadata": {},
   "source": [
    "## Install required libraries and extensions"
   ]
  },
  {
   "cell_type": "code",
   "execution_count": null,
   "id": "6935e23a-9108-4627-8b45-ee8d09c135a2",
   "metadata": {},
   "outputs": [],
   "source": [
    "!pip install numpy --user\n",
    "!pip install PDAL --user\n",
    "!pip install k3d --user\n",
    "!jupyter nbextension install --py --user k3d\n",
    "!jupyter nbextension enable --py --user k3d"
   ]
  },
  {
   "cell_type": "markdown",
   "id": "4696cfa7-e54f-4415-b146-e2f427356f46",
   "metadata": {},
   "source": [
    "## Import necessary libraries"
   ]
  },
  {
   "cell_type": "code",
   "execution_count": null,
   "id": "4968dffa-bb68-4691-a8ec-0b48835e2804",
   "metadata": {},
   "outputs": [],
   "source": [
    "import k3d\n",
    "import json\n",
    "import pdal\n",
    "import numpy as np\n",
    "from pathlib import Path"
   ]
  },
  {
   "cell_type": "markdown",
   "id": "909e14dd-1a37-4b83-bcdd-7b2eca09a89c",
   "metadata": {},
   "source": [
    "### Specify file path"
   ]
  },
  {
   "cell_type": "code",
   "execution_count": null,
   "id": "677bf419-3392-480a-8fc7-748b0b0ca90b",
   "metadata": {},
   "outputs": [],
   "source": [
    "file_path = Path(\"data/autzen.laz\")"
   ]
  },
  {
   "cell_type": "markdown",
   "id": "089aabef-0250-4de3-9019-d65a99d68588",
   "metadata": {},
   "source": [
    "### PDAL pipeline template"
   ]
  },
  {
   "cell_type": "code",
   "execution_count": null,
   "id": "1652ec61-a7ae-4fe3-acb4-9779726f2307",
   "metadata": {},
   "outputs": [],
   "source": [
    "template = [\n",
    "    {\n",
    "        'type': 'readers.las',\n",
    "        'filename': str(file_path.absolute())\n",
    "    }\n",
    "]"
   ]
  },
  {
   "cell_type": "markdown",
   "id": "54314d80-bf19-4125-98c6-1c8289df6528",
   "metadata": {},
   "source": [
    "### Execute PDAL pipeline"
   ]
  },
  {
   "cell_type": "code",
   "execution_count": null,
   "id": "ae38eed2-958d-4630-9d24-b582aac0e7ac",
   "metadata": {},
   "outputs": [],
   "source": [
    "template = json.dumps(template, indent=4)\n",
    "pipeline = pdal.Pipeline(template)\n",
    "pipeline.execute()\n",
    "arr = pipeline.arrays[0]"
   ]
  },
  {
   "cell_type": "markdown",
   "id": "22f56399-e9eb-434e-9c42-5142fce55c15",
   "metadata": {},
   "source": [
    "### Read necessary attributes then free the variables which  no longer required"
   ]
  },
  {
   "cell_type": "code",
   "execution_count": null,
   "id": "1a3224de-cace-45ee-9567-6fe145feebf5",
   "metadata": {},
   "outputs": [],
   "source": [
    "x, y, z, r, g, b = [arr[k] for k in ('X', 'Y', 'Z', 'Red', 'Green', 'Blue')]\n",
    "del arr\n",
    "del pipeline"
   ]
  },
  {
   "cell_type": "markdown",
   "id": "d444fb04-327e-4b4a-844c-f1e1a519e65d",
   "metadata": {
    "tags": []
   },
   "source": [
    "### Prepare colors"
   ]
  },
  {
   "cell_type": "code",
   "execution_count": null,
   "id": "35b598da-375c-4950-9d1e-94b37839652a",
   "metadata": {},
   "outputs": [],
   "source": [
    "c_grad = (r.astype(np.uint32) * (256**2)) + (g.astype(np.uint32) * 256) + b.astype(np.uint32)"
   ]
  },
  {
   "cell_type": "markdown",
   "id": "06ed0bc6-5286-4f83-89d5-69b8b83fa999",
   "metadata": {},
   "source": [
    "### Translate points to keep scene in first quadrant"
   ]
  },
  {
   "cell_type": "code",
   "execution_count": null,
   "id": "c9adc445-a1ed-41a3-98ea-6cc9e2e2386d",
   "metadata": {},
   "outputs": [],
   "source": [
    "# translate\n",
    "x -= x.min()\n",
    "y -= y.min()\n",
    "z -= z.min()\n",
    "xyz = np.stack([x, y, z], -1).astype(np.float32)"
   ]
  },
  {
   "cell_type": "markdown",
   "id": "3b103cfb-6ead-4f73-a799-875431046f95",
   "metadata": {},
   "source": [
    "### View Point Cloud"
   ]
  },
  {
   "cell_type": "code",
   "execution_count": null,
   "id": "ac326c69-43b6-4d7e-af3c-5c63f5f34352",
   "metadata": {},
   "outputs": [],
   "source": [
    "plot = k3d.plot(camera_auto_fit=True, camera_fov=100.0, name=\"Point Cloud Viewer\")\n",
    "plot += k3d.points(xyz, c_grad, point_size=5, shader=\"flat\")\n",
    "plot.display()"
   ]
  }
 ],
 "metadata": {
  "kernelspec": {
   "display_name": "Python 3 (ipykernel)",
   "language": "python",
   "name": "python3"
  },
  "language_info": {
   "codemirror_mode": {
    "name": "ipython",
    "version": 3
   },
   "file_extension": ".py",
   "mimetype": "text/x-python",
   "name": "python",
   "nbconvert_exporter": "python",
   "pygments_lexer": "ipython3",
   "version": "3.9.6"
  }
 },
 "nbformat": 4,
 "nbformat_minor": 5
}
