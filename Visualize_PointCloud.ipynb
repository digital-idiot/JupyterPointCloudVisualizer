{
 "cells": [
  {
   "cell_type": "markdown",
   "id": "99ddc122-4665-4eb2-9541-eb66bd1b82b5",
   "metadata": {},
   "source": [
    "## Install required libraries and extensions"
   ]
  },
  {
   "cell_type": "code",
   "execution_count": 1,
   "id": "6935e23a-9108-4627-8b45-ee8d09c135a2",
   "metadata": {},
   "outputs": [
    {
     "name": "stdout",
     "output_type": "stream",
     "text": [
      "Requirement already satisfied: numpy in /usr/local/lib/python3.8/dist-packages (1.21.5)\n",
      "Requirement already satisfied: PDAL in /home/jovyan/.local/lib/python3.8/site-packages (3.0.2)\n",
      "Requirement already satisfied: numpy in /usr/local/lib/python3.8/dist-packages (from PDAL) (1.21.5)\n",
      "Requirement already satisfied: k3d in /home/jovyan/.local/lib/python3.8/site-packages (2.12.0)\n",
      "Requirement already satisfied: traittypes in /usr/local/lib/python3.8/dist-packages (from k3d) (0.2.1)\n",
      "Requirement already satisfied: numpy in /usr/local/lib/python3.8/dist-packages (from k3d) (1.21.5)\n",
      "Requirement already satisfied: msgpack in /usr/local/lib/python3.8/dist-packages (from k3d) (1.0.3)\n",
      "Requirement already satisfied: ipywidgets in /usr/local/lib/python3.8/dist-packages (from k3d) (7.6.5)\n",
      "Requirement already satisfied: traitlets in /usr/local/lib/python3.8/dist-packages (from k3d) (5.1.1)\n",
      "Requirement already satisfied: ipython>=4.0.0 in /usr/local/lib/python3.8/dist-packages (from ipywidgets->k3d) (7.31.1)\n",
      "Requirement already satisfied: ipython-genutils~=0.2.0 in /usr/local/lib/python3.8/dist-packages (from ipywidgets->k3d) (0.2.0)\n",
      "Requirement already satisfied: ipykernel>=4.5.1 in /usr/local/lib/python3.8/dist-packages (from ipywidgets->k3d) (6.9.0)\n",
      "Requirement already satisfied: nbformat>=4.2.0 in /usr/local/lib/python3.8/dist-packages (from ipywidgets->k3d) (5.1.3)\n",
      "Requirement already satisfied: jupyterlab-widgets>=1.0.0 in /usr/local/lib/python3.8/dist-packages (from ipywidgets->k3d) (1.0.2)\n",
      "Requirement already satisfied: widgetsnbextension~=3.5.0 in /usr/local/lib/python3.8/dist-packages (from ipywidgets->k3d) (3.5.2)\n",
      "Requirement already satisfied: jupyter-client<8.0 in /usr/local/lib/python3.8/dist-packages (from ipykernel>=4.5.1->ipywidgets->k3d) (7.1.2)\n",
      "Requirement already satisfied: nest-asyncio in /usr/local/lib/python3.8/dist-packages (from ipykernel>=4.5.1->ipywidgets->k3d) (1.5.4)\n",
      "Requirement already satisfied: debugpy<2.0,>=1.0.0 in /usr/local/lib/python3.8/dist-packages (from ipykernel>=4.5.1->ipywidgets->k3d) (1.5.1)\n",
      "Requirement already satisfied: tornado<7.0,>=4.2 in /usr/local/lib/python3.8/dist-packages (from ipykernel>=4.5.1->ipywidgets->k3d) (6.1)\n",
      "Requirement already satisfied: matplotlib-inline<0.2.0,>=0.1.0 in /usr/local/lib/python3.8/dist-packages (from ipykernel>=4.5.1->ipywidgets->k3d) (0.1.3)\n",
      "Requirement already satisfied: jedi>=0.16 in /usr/local/lib/python3.8/dist-packages (from ipython>=4.0.0->ipywidgets->k3d) (0.17.2)\n",
      "Requirement already satisfied: decorator in /usr/local/lib/python3.8/dist-packages (from ipython>=4.0.0->ipywidgets->k3d) (5.1.1)\n",
      "Requirement already satisfied: pickleshare in /usr/local/lib/python3.8/dist-packages (from ipython>=4.0.0->ipywidgets->k3d) (0.7.5)\n",
      "Requirement already satisfied: backcall in /usr/local/lib/python3.8/dist-packages (from ipython>=4.0.0->ipywidgets->k3d) (0.2.0)\n",
      "Requirement already satisfied: prompt-toolkit!=3.0.0,!=3.0.1,<3.1.0,>=2.0.0 in /usr/local/lib/python3.8/dist-packages (from ipython>=4.0.0->ipywidgets->k3d) (3.0.28)\n",
      "Requirement already satisfied: pexpect>4.3 in /usr/local/lib/python3.8/dist-packages (from ipython>=4.0.0->ipywidgets->k3d) (4.8.0)\n",
      "Requirement already satisfied: setuptools>=18.5 in /usr/local/lib/python3.8/dist-packages (from ipython>=4.0.0->ipywidgets->k3d) (59.5.0)\n",
      "Requirement already satisfied: pygments in /usr/local/lib/python3.8/dist-packages (from ipython>=4.0.0->ipywidgets->k3d) (2.11.2)\n",
      "Requirement already satisfied: jupyter-core in /usr/local/lib/python3.8/dist-packages (from nbformat>=4.2.0->ipywidgets->k3d) (4.9.1)\n",
      "Requirement already satisfied: jsonschema!=2.5.0,>=2.4 in /usr/local/lib/python3.8/dist-packages (from nbformat>=4.2.0->ipywidgets->k3d) (3.2.0)\n",
      "Requirement already satisfied: notebook>=4.4.1 in /usr/local/lib/python3.8/dist-packages (from widgetsnbextension~=3.5.0->ipywidgets->k3d) (6.4.8)\n",
      "Requirement already satisfied: parso<0.8.0,>=0.7.0 in /usr/local/lib/python3.8/dist-packages (from jedi>=0.16->ipython>=4.0.0->ipywidgets->k3d) (0.7.1)\n",
      "Requirement already satisfied: attrs>=17.4.0 in /usr/local/lib/python3.8/dist-packages (from jsonschema!=2.5.0,>=2.4->nbformat>=4.2.0->ipywidgets->k3d) (21.4.0)\n",
      "Requirement already satisfied: six>=1.11.0 in /usr/local/lib/python3.8/dist-packages (from jsonschema!=2.5.0,>=2.4->nbformat>=4.2.0->ipywidgets->k3d) (1.16.0)\n",
      "Requirement already satisfied: pyrsistent>=0.14.0 in /usr/local/lib/python3.8/dist-packages (from jsonschema!=2.5.0,>=2.4->nbformat>=4.2.0->ipywidgets->k3d) (0.18.1)\n",
      "Requirement already satisfied: pyzmq>=13 in /usr/local/lib/python3.8/dist-packages (from jupyter-client<8.0->ipykernel>=4.5.1->ipywidgets->k3d) (22.3.0)\n",
      "Requirement already satisfied: entrypoints in /usr/local/lib/python3.8/dist-packages (from jupyter-client<8.0->ipykernel>=4.5.1->ipywidgets->k3d) (0.4)\n",
      "Requirement already satisfied: python-dateutil>=2.1 in /usr/local/lib/python3.8/dist-packages (from jupyter-client<8.0->ipykernel>=4.5.1->ipywidgets->k3d) (2.7.5)\n",
      "Requirement already satisfied: Send2Trash>=1.8.0 in /usr/local/lib/python3.8/dist-packages (from notebook>=4.4.1->widgetsnbextension~=3.5.0->ipywidgets->k3d) (1.8.0)\n",
      "Requirement already satisfied: argon2-cffi in /usr/local/lib/python3.8/dist-packages (from notebook>=4.4.1->widgetsnbextension~=3.5.0->ipywidgets->k3d) (21.3.0)\n",
      "Requirement already satisfied: jinja2 in /usr/local/lib/python3.8/dist-packages (from notebook>=4.4.1->widgetsnbextension~=3.5.0->ipywidgets->k3d) (3.0.3)\n",
      "Requirement already satisfied: terminado>=0.8.3 in /usr/local/lib/python3.8/dist-packages (from notebook>=4.4.1->widgetsnbextension~=3.5.0->ipywidgets->k3d) (0.13.1)\n",
      "Requirement already satisfied: prometheus-client in /usr/local/lib/python3.8/dist-packages (from notebook>=4.4.1->widgetsnbextension~=3.5.0->ipywidgets->k3d) (0.13.1)\n",
      "Requirement already satisfied: nbconvert in /usr/local/lib/python3.8/dist-packages (from notebook>=4.4.1->widgetsnbextension~=3.5.0->ipywidgets->k3d) (6.4.2)\n",
      "Requirement already satisfied: ptyprocess>=0.5 in /usr/local/lib/python3.8/dist-packages (from pexpect>4.3->ipython>=4.0.0->ipywidgets->k3d) (0.7.0)\n",
      "Requirement already satisfied: wcwidth in /usr/local/lib/python3.8/dist-packages (from prompt-toolkit!=3.0.0,!=3.0.1,<3.1.0,>=2.0.0->ipython>=4.0.0->ipywidgets->k3d) (0.2.5)\n",
      "Requirement already satisfied: argon2-cffi-bindings in /usr/local/lib/python3.8/dist-packages (from argon2-cffi->notebook>=4.4.1->widgetsnbextension~=3.5.0->ipywidgets->k3d) (21.2.0)\n",
      "Requirement already satisfied: MarkupSafe>=2.0 in /usr/local/lib/python3.8/dist-packages (from jinja2->notebook>=4.4.1->widgetsnbextension~=3.5.0->ipywidgets->k3d) (2.0.1)\n",
      "Requirement already satisfied: defusedxml in /usr/local/lib/python3.8/dist-packages (from nbconvert->notebook>=4.4.1->widgetsnbextension~=3.5.0->ipywidgets->k3d) (0.7.1)\n",
      "Requirement already satisfied: mistune<2,>=0.8.1 in /usr/local/lib/python3.8/dist-packages (from nbconvert->notebook>=4.4.1->widgetsnbextension~=3.5.0->ipywidgets->k3d) (0.8.4)\n",
      "Requirement already satisfied: bleach in /usr/local/lib/python3.8/dist-packages (from nbconvert->notebook>=4.4.1->widgetsnbextension~=3.5.0->ipywidgets->k3d) (4.1.0)\n",
      "Requirement already satisfied: testpath in /usr/local/lib/python3.8/dist-packages (from nbconvert->notebook>=4.4.1->widgetsnbextension~=3.5.0->ipywidgets->k3d) (0.5.0)\n",
      "Requirement already satisfied: nbclient<0.6.0,>=0.5.0 in /usr/local/lib/python3.8/dist-packages (from nbconvert->notebook>=4.4.1->widgetsnbextension~=3.5.0->ipywidgets->k3d) (0.5.10)\n",
      "Requirement already satisfied: pandocfilters>=1.4.1 in /usr/local/lib/python3.8/dist-packages (from nbconvert->notebook>=4.4.1->widgetsnbextension~=3.5.0->ipywidgets->k3d) (1.5.0)\n",
      "Requirement already satisfied: jupyterlab-pygments in /usr/local/lib/python3.8/dist-packages (from nbconvert->notebook>=4.4.1->widgetsnbextension~=3.5.0->ipywidgets->k3d) (0.1.2)\n",
      "Requirement already satisfied: cffi>=1.0.1 in /usr/local/lib/python3.8/dist-packages (from argon2-cffi-bindings->argon2-cffi->notebook>=4.4.1->widgetsnbextension~=3.5.0->ipywidgets->k3d) (1.15.0)\n",
      "Requirement already satisfied: packaging in /usr/local/lib/python3.8/dist-packages (from bleach->nbconvert->notebook>=4.4.1->widgetsnbextension~=3.5.0->ipywidgets->k3d) (21.3)\n",
      "Requirement already satisfied: webencodings in /usr/local/lib/python3.8/dist-packages (from bleach->nbconvert->notebook>=4.4.1->widgetsnbextension~=3.5.0->ipywidgets->k3d) (0.5.1)\n",
      "Requirement already satisfied: pycparser in /usr/local/lib/python3.8/dist-packages (from cffi>=1.0.1->argon2-cffi-bindings->argon2-cffi->notebook>=4.4.1->widgetsnbextension~=3.5.0->ipywidgets->k3d) (2.21)\n",
      "Requirement already satisfied: pyparsing!=3.0.5,>=2.0.2 in /usr/local/lib/python3.8/dist-packages (from packaging->bleach->nbconvert->notebook>=4.4.1->widgetsnbextension~=3.5.0->ipywidgets->k3d) (3.0.7)\n",
      "Installing /home/jovyan/.local/lib/python3.8/site-packages/k3d/static -> k3d\n",
      "Up to date: /home/jovyan/.local/share/jupyter/nbextensions/k3d/extension.js\n",
      "Up to date: /home/jovyan/.local/share/jupyter/nbextensions/k3d/standalone.js.map\n",
      "Up to date: /home/jovyan/.local/share/jupyter/nbextensions/k3d/require.js\n",
      "Up to date: /home/jovyan/.local/share/jupyter/nbextensions/k3d/snapshot_online.txt\n",
      "Up to date: /home/jovyan/.local/share/jupyter/nbextensions/k3d/snapshot_inline.txt\n",
      "Up to date: /home/jovyan/.local/share/jupyter/nbextensions/k3d/standalone.js.LICENSE.txt\n",
      "Up to date: /home/jovyan/.local/share/jupyter/nbextensions/k3d/index.js.LICENSE.txt\n",
      "Up to date: /home/jovyan/.local/share/jupyter/nbextensions/k3d/require.js.LICENSE.txt\n",
      "Up to date: /home/jovyan/.local/share/jupyter/nbextensions/k3d/index.js\n",
      "Up to date: /home/jovyan/.local/share/jupyter/nbextensions/k3d/standalone.js\n",
      "Up to date: /home/jovyan/.local/share/jupyter/nbextensions/k3d/headless.html\n",
      "Up to date: /home/jovyan/.local/share/jupyter/nbextensions/k3d/fflate.js\n",
      "Up to date: /home/jovyan/.local/share/jupyter/nbextensions/k3d/snapshot_standalone.txt\n",
      "Up to date: /home/jovyan/.local/share/jupyter/nbextensions/k3d/index.js.map\n",
      "- Validating: \u001b[32mOK\u001b[0m\n",
      "\n",
      "    To initialize this nbextension in the browser every time the notebook (or other app) loads:\n",
      "    \n",
      "          jupyter nbextension enable k3d --user --py\n",
      "    \n",
      "Enabling notebook extension k3d/extension...\n",
      "      - Validating: \u001b[32mOK\u001b[0m\n"
     ]
    }
   ],
   "source": [
    "!pip install numpy --user\n",
    "!pip install PDAL --user\n",
    "!pip install k3d --user\n",
    "!jupyter nbextension install --py --user k3d\n",
    "!jupyter nbextension enable --py --user k3d"
   ]
  },
  {
   "cell_type": "markdown",
   "id": "4696cfa7-e54f-4415-b146-e2f427356f46",
   "metadata": {},
   "source": [
    "## Import necessary libraries"
   ]
  },
  {
   "cell_type": "code",
   "execution_count": 2,
   "id": "4968dffa-bb68-4691-a8ec-0b48835e2804",
   "metadata": {},
   "outputs": [],
   "source": [
    "import k3d\n",
    "import json\n",
    "import pdal\n",
    "import numpy as np\n",
    "from pathlib import Path"
   ]
  },
  {
   "cell_type": "markdown",
   "id": "909e14dd-1a37-4b83-bcdd-7b2eca09a89c",
   "metadata": {},
   "source": [
    "### Specify file path"
   ]
  },
  {
   "cell_type": "code",
   "execution_count": 3,
   "id": "677bf419-3392-480a-8fc7-748b0b0ca90b",
   "metadata": {},
   "outputs": [],
   "source": [
    "file_path = Path(\"data/autzen.laz\")"
   ]
  },
  {
   "cell_type": "markdown",
   "id": "089aabef-0250-4de3-9019-d65a99d68588",
   "metadata": {},
   "source": [
    "### PDAL pipeline template"
   ]
  },
  {
   "cell_type": "code",
   "execution_count": 4,
   "id": "1652ec61-a7ae-4fe3-acb4-9779726f2307",
   "metadata": {},
   "outputs": [],
   "source": [
    "template = [\n",
    "    {\n",
    "        'type': 'readers.las',\n",
    "        'filename': str(file_path.absolute())\n",
    "    }\n",
    "]"
   ]
  },
  {
   "cell_type": "markdown",
   "id": "54314d80-bf19-4125-98c6-1c8289df6528",
   "metadata": {},
   "source": [
    "### Execute PDAL pipeline"
   ]
  },
  {
   "cell_type": "code",
   "execution_count": 5,
   "id": "ae38eed2-958d-4630-9d24-b582aac0e7ac",
   "metadata": {},
   "outputs": [],
   "source": [
    "template = json.dumps(template, indent=4)\n",
    "pipeline = pdal.Pipeline(template)\n",
    "pipeline.execute()\n",
    "arr = pipeline.arrays[0]"
   ]
  },
  {
   "cell_type": "markdown",
   "id": "22f56399-e9eb-434e-9c42-5142fce55c15",
   "metadata": {},
   "source": [
    "### Read necessary attributes then free the variables which  no longer required"
   ]
  },
  {
   "cell_type": "code",
   "execution_count": 6,
   "id": "1a3224de-cace-45ee-9567-6fe145feebf5",
   "metadata": {},
   "outputs": [],
   "source": [
    "x, y, z, r, g, b = [arr[k] for k in ('X', 'Y', 'Z', 'Red', 'Green', 'Blue')]\n",
    "del arr\n",
    "del pipeline"
   ]
  },
  {
   "cell_type": "markdown",
   "id": "d444fb04-327e-4b4a-844c-f1e1a519e65d",
   "metadata": {
    "tags": []
   },
   "source": [
    "### Prepare colors"
   ]
  },
  {
   "cell_type": "code",
   "execution_count": 7,
   "id": "35b598da-375c-4950-9d1e-94b37839652a",
   "metadata": {},
   "outputs": [],
   "source": [
    "c_grad = (r.astype(np.uint32) * (256**2)) + (g.astype(np.uint32) * 256) + b.astype(np.uint32)"
   ]
  },
  {
   "cell_type": "markdown",
   "id": "06ed0bc6-5286-4f83-89d5-69b8b83fa999",
   "metadata": {},
   "source": [
    "### Translate points to keep scene in first quadrant"
   ]
  },
  {
   "cell_type": "code",
   "execution_count": 9,
   "id": "c9adc445-a1ed-41a3-98ea-6cc9e2e2386d",
   "metadata": {},
   "outputs": [],
   "source": [
    "# translate\n",
    "x -= x.min()\n",
    "y -= y.min()\n",
    "z -= z.min()\n",
    "xyz = np.stack([x, y, z], -1).astype(np.float32)"
   ]
  },
  {
   "cell_type": "markdown",
   "id": "3b103cfb-6ead-4f73-a799-875431046f95",
   "metadata": {},
   "source": [
    "### View Point Cloud"
   ]
  },
  {
   "cell_type": "code",
   "execution_count": 14,
   "id": "ac326c69-43b6-4d7e-af3c-5c63f5f34352",
   "metadata": {},
   "outputs": [
    {
     "data": {
      "application/vnd.jupyter.widget-view+json": {
       "model_id": "0c2b7f799bbf4cbe816a2eea95c4ad10",
       "version_major": 2,
       "version_minor": 0
      },
      "text/plain": [
       "Output()"
      ]
     },
     "metadata": {},
     "output_type": "display_data"
    }
   ],
   "source": [
    "plot = k3d.plot(camera_auto_fit=True, camera_fov=100.0, name=\"Point Cloud Viewer\")\n",
    "plot += k3d.points(xyz, c_grad, point_size=5, shader=\"flat\")\n",
    "plot.display()"
   ]
  }
 ],
 "metadata": {
  "kernelspec": {
   "display_name": "Python",
   "language": "python",
   "name": "python3"
  },
  "language_info": {
   "codemirror_mode": {
    "name": "ipython",
    "version": 3
   },
   "file_extension": ".py",
   "mimetype": "text/x-python",
   "name": "python",
   "nbconvert_exporter": "python",
   "pygments_lexer": "ipython3",
   "version": "3.8.10"
  }
 },
 "nbformat": 4,
 "nbformat_minor": 5
}
